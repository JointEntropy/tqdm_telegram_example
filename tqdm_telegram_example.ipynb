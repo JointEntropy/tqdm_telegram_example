{
 "cells": [
  {
   "cell_type": "markdown",
   "id": "c282b327",
   "metadata": {},
   "source": [
    "https://tqdm.github.io/docs/contrib.telegram/\n",
    "\n",
    "1. Create bot and save token.\n",
    "2. Find bot token\n",
    "3. Send /start to your bot.\n",
    "4. Get chat_id from url `f'https://api.telegram.org/bot{BOT_TOKEN}/getUpdates'`\n",
    "5. Use `chat_id` and `bot_token` for script below."
   ]
  },
  {
   "cell_type": "code",
   "execution_count": null,
   "id": "5fe73be7",
   "metadata": {},
   "outputs": [],
   "source": [
    "from tqdm.contrib.telegram import tqdm, trange\n",
    "from time import sleep\n",
    "\n",
    "\n",
    "def get_chat_id(bot_token):\n",
    "    import requests\n",
    "    r = requests.get(f'https://api.telegram.org/bot{BOT_TOKEN}/getUpdates')\n",
    "    assert r.status_code==200, 'Send /start to your bot.'\n",
    "    chat_id = r.json()['result'][0]['message']['chat']['id']\n",
    "    return chat_id\n",
    "\n",
    "BOT_TOKEN = '<YOUR_BOT_TOKEN>'\n",
    "chat_id = get_chat_id(BOT_TOKEN)"
   ]
  },
  {
   "cell_type": "code",
   "execution_count": null,
   "id": "31db6dc9",
   "metadata": {},
   "outputs": [],
   "source": [
    "for i in trange(10, token=BOT_TOKEN, chat_id=chat_id):\n",
    "    sleep(2)"
   ]
  }
 ],
 "metadata": {
  "kernelspec": {
   "display_name": "Python 3 (ipykernel)",
   "language": "python",
   "name": "python3"
  },
  "language_info": {
   "codemirror_mode": {
    "name": "ipython",
    "version": 3
   },
   "file_extension": ".py",
   "mimetype": "text/x-python",
   "name": "python",
   "nbconvert_exporter": "python",
   "pygments_lexer": "ipython3",
   "version": "3.8.0"
  },
  "toc": {
   "base_numbering": 1,
   "nav_menu": {},
   "number_sections": true,
   "sideBar": true,
   "skip_h1_title": false,
   "title_cell": "Table of Contents",
   "title_sidebar": "Contents",
   "toc_cell": false,
   "toc_position": {},
   "toc_section_display": true,
   "toc_window_display": false
  }
 },
 "nbformat": 4,
 "nbformat_minor": 5
}
